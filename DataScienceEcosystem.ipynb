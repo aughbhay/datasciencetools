{
 "cells": [
  {
   "cell_type": "markdown",
   "id": "375ac66a",
   "metadata": {},
   "source": [
    "# DataScienceEcosystem.ipynb\n"
   ]
  },
  {
   "cell_type": "markdown",
   "id": "4a7fb9e9",
   "metadata": {},
   "source": [
    "## Introduction\n",
    "\n",
    "In this notebook, Data Science Tools and Ecosystem are summarized."
   ]
  },
  {
   "cell_type": "markdown",
   "id": "3a864ba5",
   "metadata": {},
   "source": [
    "**Objectives:**\n",
    "\n",
    "- List popular languages for Data Science.\n",
    "- Introduce arithmetic expression examples in Python.\n",
    "- Demonstrate how to convert minutes to hours.\n",
    "- Provide an overview of data science libraries.\n"
   ]
  },
  {
   "cell_type": "markdown",
   "id": "671e0cf8",
   "metadata": {},
   "source": [
    "## Some of the popular languages that Data Scientists use are:\n",
    "\n",
    "1. Python\n",
    "2. R\n",
    "3. Julia\n",
    "4. SQL\n",
    "5. MATLAB\n",
    "6. Scala\n"
   ]
  },
  {
   "cell_type": "markdown",
   "id": "f9eda39a",
   "metadata": {},
   "source": [
    "## Some of the commonly used libraries used by Data Scientists include:\n",
    "\n",
    "1. Pandas\n",
    "2. NumPy\n",
    "3. Matplotlib\n",
    "4. SciPy\n",
    "5. Scikit-learn\n"
   ]
  },
  {
   "cell_type": "markdown",
   "id": "11644f2d",
   "metadata": {},
   "source": [
    "| Data Science Tools    |\n",
    "|-----------------------|\n",
    "| Jupyter Notebook      |\n",
    "| RStudio               |\n",
    "| Visual Studio Code    |\n"
   ]
  },
  {
   "cell_type": "markdown",
   "id": "1e26ff42",
   "metadata": {},
   "source": [
    "### Below are a few examples of evaluating arithmetic expressions in Python:\n",
    "\n",
    "- Addition: `3 + 5` evaluates to 8.\n",
    "- Subtraction: `10 - 4` evaluates to 6.\n",
    "- Multiplication: `2 * 6` evaluates to 12.\n",
    "- Division: `15 / 3` evaluates to 5.0 (result is a float).\n",
    "- Integer Division: `15 // 3` evaluates to 5 (result is an integer).\n",
    "- Exponentiation: `2 ** 3` evaluates to 8 (2 raised to the power of 3).\n",
    "- Modulus (Remainder): `17 % 5` evaluates to 2 (remainder of 17 divided by 5).\n"
   ]
  },
  {
   "cell_type": "markdown",
   "id": "8ab58cd1",
   "metadata": {},
   "source": [
    "### This is a simple arithmetic expression to multiply then add integers.\n",
    "print((3 * 4) + 5)\n",
    "\n"
   ]
  },
  {
   "cell_type": "markdown",
   "id": "7545e02d",
   "metadata": {},
   "source": [
    "### This will convert 200 minutes to hours by dividing by 60.\n",
    "minutes = 200\n",
    "hours = minutes / 60\n",
    "hours\n"
   ]
  },
  {
   "cell_type": "markdown",
   "id": "cf257d00",
   "metadata": {},
   "source": [
    "## Author\n",
    "\n",
    "Abhay Bhat\n"
   ]
  },
  {
   "cell_type": "code",
   "execution_count": null,
   "id": "0dc0c518",
   "metadata": {},
   "outputs": [],
   "source": []
  }
 ],
 "metadata": {
  "kernelspec": {
   "display_name": "Python 3 (ipykernel)",
   "language": "python",
   "name": "python3"
  },
  "language_info": {
   "codemirror_mode": {
    "name": "ipython",
    "version": 3
   },
   "file_extension": ".py",
   "mimetype": "text/x-python",
   "name": "python",
   "nbconvert_exporter": "python",
   "pygments_lexer": "ipython3",
   "version": "3.10.9"
  }
 },
 "nbformat": 4,
 "nbformat_minor": 5
}
